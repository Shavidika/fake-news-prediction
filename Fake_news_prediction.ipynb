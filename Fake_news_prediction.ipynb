{
 "cells": [
  {
   "cell_type": "code",
   "execution_count": 1,
   "metadata": {},
   "outputs": [],
   "source": [
    "import numpy as np\n",
    "import pandas as pd\n",
    "import re # regular expression - to search the text in the file\n",
    "from nltk.corpus import stopwords # to remove the stopwords\n",
    "from nltk.stem.porter import PorterStemmer # to remove the prefix and suffix of the word\n",
    "from sklearn.feature_extraction.text import TfidfVectorizer # convert the text into vector(numbers)\n",
    "from sklearn.model_selection import train_test_split #train the data\n",
    "from sklearn.linear_model import LogisticRegression # to predict the data\n",
    "from sklearn.metrics import accuracy_score # to check the accuracy of the model\n"
   ]
  },
  {
   "cell_type": "code",
   "execution_count": 2,
   "metadata": {},
   "outputs": [],
   "source": [
    "import nltk # to remove the stopwords"
   ]
  }
 ],
 "metadata": {
  "kernelspec": {
   "display_name": "myenv",
   "language": "python",
   "name": "python3"
  },
  "language_info": {
   "codemirror_mode": {
    "name": "ipython",
    "version": 3
   },
   "file_extension": ".py",
   "mimetype": "text/x-python",
   "name": "python",
   "nbconvert_exporter": "python",
   "pygments_lexer": "ipython3",
   "version": "3.11.5"
  }
 },
 "nbformat": 4,
 "nbformat_minor": 2
}
